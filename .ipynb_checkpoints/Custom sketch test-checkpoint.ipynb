{
 "cells": [
  {
   "cell_type": "markdown",
   "id": "6851bf03",
   "metadata": {},
   "source": [
    "# This notebook introduces the Custom sketch and tests its correctness\n",
    "\n",
    "### You can run experiments on it here, but not with Advice\n",
    "### Advice can only be run via Grand test.ipynb"
   ]
  },
  {
   "cell_type": "code",
   "execution_count": 1,
   "id": "caeb510d",
   "metadata": {},
   "outputs": [],
   "source": [
    "import pandas as pd\n",
    "import os\n",
    "import time\n",
    "import numpy as np\n",
    "from sklearn.metrics import roc_auc_score\n",
    "import seaborn as sns\n",
    "import matplotlib.pyplot as plt\n",
    "import math\n",
    "\n",
    "DATASET = 'Uniform'\n",
    "from thesis_library import *\n",
    "from Custom_sketch import Sketch, CMSketch, MIDAS\n",
    "#from Custom_sketch_old import Sketch, CMSketch, MIDAS\n",
    "from Midas import FilteringCore, NormalCore, RelationalCore#, TestingCore\n",
    "from matplotlib.colors import LogNorm"
   ]
  },
  {
   "cell_type": "code",
   "execution_count": null,
   "id": "1c3ad768",
   "metadata": {},
   "outputs": [],
   "source": [
    "X, y = read_data(DATASET, plant='clique', sample=False)\n",
    "print(round(len(y)/1000000, 2), \"million edges\")\n",
    "print(\"% of anomaly edges:  \", sum(y) / len(y) * 100)\n",
    "X, y = X[:200], y[:200]\n",
    "\n",
    "# test_size = 0.5\n",
    "# X_train, X_test, y_train, y_test = split(X, y, test_size)\n",
    "# split_name = get_split_name(test_size)\n",
    "# G = construct_training_graph(X_train, y_train, True, False)"
   ]
  },
  {
   "cell_type": "markdown",
   "id": "a1480829",
   "metadata": {},
   "source": [
    "### Testing the activity sampling for a single CMS:"
   ]
  },
  {
   "cell_type": "code",
   "execution_count": null,
   "id": "8c6a2152",
   "metadata": {},
   "outputs": [],
   "source": [
    "wow = CMSketch(5, 5, 4, p=0.5, subsequent_activities=1)\n",
    "print(\"wow.active:                     \", wow.active)\n",
    "print(\"wow.subsequent_activities:      \", wow.subsequent_activities)\n",
    "print(\"wow.timestamps_remaining_active:\", wow.timestamps_remaining_active)\n",
    "print('')\n",
    "#vars(wow)\n",
    "\n",
    "current_t = X[0][2]\n",
    "\n",
    "for edge in X:\n",
    "    u, v, t = edge\n",
    "    if t > current_t:\n",
    "        wow.sample_activity()\n",
    "        print(wow.active, wow.timestamps_remaining_active)"
   ]
  },
  {
   "cell_type": "markdown",
   "id": "8a2bd1f5",
   "metadata": {},
   "source": [
    "### Testing the switchboard functionality. Change the score() function to just return 1 to test it"
   ]
  },
  {
   "cell_type": "code",
   "execution_count": null,
   "id": "b27a3ed2",
   "metadata": {},
   "outputs": [],
   "source": [
    "s = MIDAS(4, 5, 3, is_switchboard=True, preferred_lp='None')\n",
    "\n",
    "score = []\n",
    "for edge in X:\n",
    "    u, v, t = edge\n",
    "    if t > s.t:\n",
    "        print(t)\n",
    "        for sketch in s.total:\n",
    "            print(sketch.p, sketch.active, sketch.starting_t)\n",
    "        print('')\n",
    "    score.append(s.process_edge(u, v, t))\n",
    "    \n",
    "print(\"There is a NaN:      \", np.nan in score)\n",
    "print(\"There is an infinity:\", np.inf in score)\n",
    "\n",
    "for sketch in s.total[0].subsketches:\n",
    "    print(sketch.table)\n",
    "    \n",
    "print(roc_auc_score(y, score))"
   ]
  },
  {
   "cell_type": "markdown",
   "id": "c0c879d9",
   "metadata": {},
   "source": [
    "## Testing regular Custom approach"
   ]
  },
  {
   "cell_type": "code",
   "execution_count": 2,
   "id": "f66acf2b",
   "metadata": {},
   "outputs": [
    {
     "name": "stdout",
     "output_type": "stream",
     "text": [
      "Reading dataset: Uniform\n"
     ]
    },
    {
     "name": "stderr",
     "output_type": "stream",
     "text": [
      "Rav_sketch: 100%|████████████████████████████████████████████████████████████████████| 489k/489k [15:25<00:00, 529it/s]"
     ]
    },
    {
     "name": "stdout",
     "output_type": "stream",
     "text": [
      "There is a NaN:       False\n",
      "There is an infinity: False \n",
      "\n",
      "-1 925.777594089508\n"
     ]
    },
    {
     "name": "stderr",
     "output_type": "stream",
     "text": [
      "\n"
     ]
    }
   ],
   "source": [
    "s = MIDAS(3, 32, 5)#, is_switchboard=False, preferred_lp='None')\n",
    "\n",
    "auc, time_taken = s.process_dataset(DATASET, plant='clique', sample=False, verbose=True, save_score=False)\n",
    "\n",
    "print(auc, time_taken)\n",
    "\n",
    "#s.plot_hash_table(DATASET, True)"
   ]
  },
  {
   "cell_type": "markdown",
   "id": "fa15ab03",
   "metadata": {},
   "source": [
    "### Comparing it to regular MIDAS:"
   ]
  },
  {
   "cell_type": "code",
   "execution_count": null,
   "id": "9800e639",
   "metadata": {},
   "outputs": [],
   "source": [
    "X, y = read_data(DATASET, plant='clique')\n",
    "print(int(math.sqrt(len(y))))\n",
    "\n",
    "#s = NormalCore(1, int(math.sqrt(len(y))))\n",
    "s = NormalCore(512, 2)\n",
    "\n",
    "score = [0.0] * len(y)\n",
    "for i in trange(len(y), desc=s.nameAlg, unit_scale=True):\n",
    "    score[i] = s.Call(*X[i])\n",
    "    \n",
    "# print(\"There is a NaN:      \", np.nan in score)\n",
    "# print(\"There is an infinity:\", np.inf in score)\n",
    "# print(\"% of anomaly edges:  \", sum(y) / len(y) * 100)\n",
    "# #print(\"% of anomaly edges:  \", sum(y[:nr_edges]) / len(y[:nr_edges]) * 100)\n",
    "\n",
    "#Saving the score:\n",
    "if 'midas_' + DATASET + '.txt' not in os.listdir('./data/scores'):\n",
    "    with open('./data/scores/midas_' + DATASET + '.txt', 'wb') as fp:\n",
    "        pickle.dump(score, fp)"
   ]
  },
  {
   "cell_type": "markdown",
   "id": "a785f64e",
   "metadata": {},
   "source": [
    "### Comparing it to Testing MIDAS (a and s/t separately):"
   ]
  },
  {
   "cell_type": "code",
   "execution_count": null,
   "id": "b1968d3e",
   "metadata": {},
   "outputs": [],
   "source": [
    "s = NormalCore(1, int(math.sqrt(len(y))))\n",
    "\n",
    "score_a, score_st = [0.0] * len(y), [0.0] * len(y)\n",
    "for i in range(len(y)):#trange(len(y), desc=s.nameAlg, unit_scale=True):\n",
    "    score_a[i], score_st[i] = s.Call(*X[i])\n",
    "    \n",
    "# print(\"There is a NaN:      \", np.nan in score)\n",
    "# print(\"There is an infinity:\", np.inf in score)\n",
    "# print(\"% of anomaly edges:  \", sum(y[:nr_edges]) / len(y[:nr_edges]) * 100)\n",
    "\n",
    "# #Saving the score:\n",
    "# if 'midas_testing_a' + DATASET + '.txt' not in os.listdir('./data/scores'):\n",
    "#     with open('./data/scores/midas_testing_a' + DATASET + '.txt', 'wb') as fp:\n",
    "#         pickle.dump(score_a, fp)\n",
    "        \n",
    "# #Saving the score:\n",
    "# if 'midas_testing_st' + DATASET + '.txt' not in os.listdir('./data/scores'):\n",
    "#     with open('./data/scores/midas_testing_st' + DATASET + '.txt', 'wb') as fp:\n",
    "#         pickle.dump(score_st, fp)"
   ]
  },
  {
   "cell_type": "markdown",
   "id": "1fbe7d02",
   "metadata": {},
   "source": [
    "### Comparing it to pure LP can only be done at training/testing setup"
   ]
  },
  {
   "cell_type": "code",
   "execution_count": null,
   "id": "89e6021b",
   "metadata": {},
   "outputs": [],
   "source": [
    "test_size = 0.5\n",
    "\n",
    "print(\"Reading data\")\n",
    "X, y = read_data(dataset = DATASET, plant='clique')\n",
    "\n",
    "print(\"Splitting data\")\n",
    "X_train, X_test, y_train, y_test = split(X, y, test_size=test_size)\n",
    "\n",
    "print(\"Constructing the training graph (anomalies disallowed)\")\n",
    "G = construct_training_graph(X_train, y_train, True, False)\n",
    "\n",
    "print(\"Filtering the test set\")\n",
    "X_test, y_test = filter_test(X_test, y_test, G)\n",
    "\n",
    "score = apply_lp('Preferential Attachment', [1]*len(y_test), X_test, G)\n",
    "\n",
    "#Saving the score:\n",
    "if 'pa_' + str(test_size) + '_' + DATASET + '.txt' not in os.listdir('./data/scores'):\n",
    "    with open('./data/scores/pa_' + str(test_size) + '_' + DATASET + '.txt', 'wb') as fp:\n",
    "        pickle.dump(score, fp)"
   ]
  },
  {
   "cell_type": "markdown",
   "id": "3880c019",
   "metadata": {},
   "source": [
    "## Testing Custom sketch with saving results:"
   ]
  },
  {
   "cell_type": "code",
   "execution_count": null,
   "id": "f214740c",
   "metadata": {},
   "outputs": [],
   "source": [
    "def test_new_sketch(depth: int, length: int, k: int, datasets: list, is_switchboard=False, preferred_lp=None,\n",
    "                    lp_scale=1.0, df=None):\n",
    "    '''Essentially runs .process_dataset() with saving results'''\n",
    "    \n",
    "    if df is None and 'custom_sketch_test.csv' not in os.listdir('./CSV'):\n",
    "        df = pd.DataFrame(columns=['Dataset', 'AUC', 'Runtime', '#edges', \n",
    "                                   'Depth', 'Length', 'K', 'Switchboard', 'Preferred LP', 'Advice', 'LP scale'])\n",
    "    \n",
    "    for dataset in datasets:\n",
    "        \n",
    "        print(\"reading dataset:\", dataset)\n",
    "        new_sketch = MIDAS(depth, length, k, is_switchboard=is_switchboard, preferred_lp=preferred_lp, lp_scale=lp_scale)\n",
    "        auc, time_taken = new_sketch.process_dataset(dataset=dataset, save_score=False, verbose=True)\n",
    "        \n",
    "        nr_edges = {'ISCX': 1097070, 'DARPA': 4554344, 'CTU13': 2521286, \n",
    "                    'NB15': 2540047, 'Gowalla': 1131131, 'NYC_Taxi': 3895263}[dataset]\n",
    "        \n",
    "        df.loc[df.shape[0]] = [dataset, auc, round(time_taken, 4), nr_edges, \n",
    "                               depth, length, k, is_switchboard, preferred_lp, False, lp_scale]\n",
    "        \n",
    "        df.to_csv('./CSV/custom_sketch_test.csv', index=False)\n",
    "\n",
    "        time.sleep(40)"
   ]
  },
  {
   "cell_type": "code",
   "execution_count": null,
   "id": "85aef66f",
   "metadata": {},
   "outputs": [],
   "source": [
    "df = pd.read_csv('./CSV/custom_sketch_test.csv')\n",
    "df"
   ]
  },
  {
   "cell_type": "code",
   "execution_count": null,
   "id": "62b9a82e",
   "metadata": {},
   "outputs": [],
   "source": [
    "#test_new_sketch(depth=7, length=5, k=3, datasets=['NYC_Taxi'], is_switchboard=False, df=df)"
   ]
  },
  {
   "cell_type": "markdown",
   "id": "45a717f7",
   "metadata": {},
   "source": [
    "## The code below tests for the cumulative score predicted in a slice with 100 anomalies"
   ]
  },
  {
   "cell_type": "code",
   "execution_count": null,
   "id": "12d5a88e",
   "metadata": {},
   "outputs": [],
   "source": [
    "X, y = read_data(DATASET, plant='clique')\n",
    "\n",
    "with open('./data/scores/midas_NB15.txt', 'rb') as fp:\n",
    "    score_midas_nb15 = pickle.load(fp)\n",
    "    \n",
    "with open('./data/scores/custom_3-32-5_No LP_NB15.txt', 'rb') as fp:\n",
    "    score_custom_nb15 = pickle.load(fp)"
   ]
  },
  {
   "cell_type": "code",
   "execution_count": null,
   "id": "f207bb01",
   "metadata": {},
   "outputs": [],
   "source": [
    "start, end = get_nice_timestamp_indices(DATASET, anomalies_min=100, anomalies_max=100)\n",
    "        \n",
    "print(\"Indices of the slice:              \", start, end)\n",
    "print(\"Anomalies in the ground truth:     \", sum(y[start:end]))\n",
    "print(\"Cumulative score of MIDAS:         \", sum(score_midas_nb15[start:end]))\n",
    "print(\"Cumulative scaled score of MIDAS:  \", sum(score_midas_nb15[start:end]) / max(score_midas_nb15[start:end]))\n",
    "print(\"Cumulative score of Custom:        \", sum(score_custom_nb15[start:end]))\n",
    "print(\"Cumulative scaled score of Custom: \", sum(score_custom_nb15[start:end]) / max(score_custom_nb15[start:end]))"
   ]
  }
 ],
 "metadata": {
  "kernelspec": {
   "display_name": "Python 3 (ipykernel)",
   "language": "python",
   "name": "python3"
  },
  "language_info": {
   "codemirror_mode": {
    "name": "ipython",
    "version": 3
   },
   "file_extension": ".py",
   "mimetype": "text/x-python",
   "name": "python",
   "nbconvert_exporter": "python",
   "pygments_lexer": "ipython3",
   "version": "3.11.3"
  }
 },
 "nbformat": 4,
 "nbformat_minor": 5
}
