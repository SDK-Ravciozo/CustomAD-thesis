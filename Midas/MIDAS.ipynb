{
 "cells": [
  {
   "cell_type": "code",
   "execution_count": 1,
   "id": "oriented-federation",
   "metadata": {},
   "outputs": [],
   "source": [
    "import math\n",
    "import numpy as np\n",
    "import pandas as pd"
   ]
  },
  {
   "cell_type": "code",
   "execution_count": 2,
   "id": "backed-sense",
   "metadata": {},
   "outputs": [],
   "source": [
    "from pyprojroot import here\n",
    "from sklearn.metrics import roc_auc_score\n",
    "from tqdm import tqdm, trange"
   ]
  },
  {
   "cell_type": "code",
   "execution_count": 3,
   "id": "scheduled-messenger",
   "metadata": {},
   "outputs": [],
   "source": [
    "# MIDAS | -R | -F"
   ]
  },
  {
   "cell_type": "code",
   "execution_count": 4,
   "id": "alive-parent",
   "metadata": {},
   "outputs": [],
   "source": [
    "# src:source | dst:destination | ts:timestamp"
   ]
  },
  {
   "cell_type": "code",
   "execution_count": 5,
   "id": "burning-rating",
   "metadata": {},
   "outputs": [],
   "source": [
    "class Midas:\n",
    "    def __init__(self, row: int, col: int):\n",
    "        self.nameAlg = 'MIDAS'\n",
    "        self.ts: int = 1\n",
    "        self.row = row\n",
    "        self.col = col\n",
    "        self.param = np.random.randint(1, 1 << 16, 2 * row).astype(int) # 2^16\n",
    "        self.current = np.zeros(row * col, int) # store counts\n",
    "        self.total = np.zeros(row * col, int)\n",
    "\n",
    "    @staticmethod # 静态方法无需实例化\n",
    "    def ChiSquaredTest(a: float, s: float, t: float) -> float:\n",
    "        return 0 if s == 0 or t - 1 == 0 else pow((a - s / t) * t, 2) / (s * (t - 1))\n",
    "\n",
    "    def Call(self, src: int, dst: int, ts: int) -> float:\n",
    "        if self.ts < ts:\n",
    "            self.current *= 0\n",
    "            self.ts = ts\n",
    "        minCurrent = minTotal = np.inf\n",
    "        for i in range(self.row):\n",
    "            i = i * self.col + ((src + 347 * dst) * self.param[i] + self.param[i + self.row]) % self.col\n",
    "            self.current[i] += 1\n",
    "            self.total[i] += 1\n",
    "            minCurrent = min(minCurrent, self.current[i])\n",
    "            minTotal = min(minTotal, self.total[i])\n",
    "        return self.ChiSquaredTest(minCurrent, minTotal, ts)"
   ]
  },
  {
   "cell_type": "code",
   "execution_count": 6,
   "id": "immune-pacific",
   "metadata": {},
   "outputs": [],
   "source": [
    "class CMSGroup:\n",
    "    def __init__(self, length: int):\n",
    "        self.current = np.zeros(length, float)\n",
    "        self.total = np.zeros(length, float)\n",
    "class MidasR:\n",
    "    def __init__(self, row: int, col: int, factor: float = 0.5):\n",
    "        self.nameAlg = 'MIDAS-R'\n",
    "        self.ts = 1\n",
    "        self.row = row\n",
    "        self.col = col\n",
    "        self.factor = factor\n",
    "        self.param = np.random.randint(1, 1 << 16, 2 * row).astype(int)\n",
    "        # create 3 CMS for edge uv, node u, node v\n",
    "        self.edge = CMSGroup(row * col)\n",
    "        self.source = CMSGroup(row * col)\n",
    "        self.destination = CMSGroup(row * col)\n",
    "\n",
    "    @staticmethod\n",
    "    def ChiSquaredTest(a: float, s: float, t: float) -> float:\n",
    "        return 0 if s == 0 or t - 1 == 0 else pow((a - s / t) * t, 2) / (s * (t - 1))\n",
    "\n",
    "    def Update(self, a: int, b: int, cms: CMSGroup) -> float:\n",
    "        minCurrent = minTotal = np.inf\n",
    "        for i in range(self.row):\n",
    "            i = i * self.col + ((a + 347 * b) * self.param[i] + self.param[i + self.row]) % self.col\n",
    "            cms.current[i] += 1\n",
    "            cms.total[i] += 1\n",
    "            minCurrent = min(minCurrent, cms.current[i])\n",
    "            minTotal = min(minTotal, cms.total[i])\n",
    "        return self.ChiSquaredTest(minCurrent, minTotal, self.ts)\n",
    "\n",
    "    def Call(self, src: int, dst: int, ts: int) -> float:\n",
    "        if self.ts < ts:\n",
    "            for cms in [self.edge, self.source, self.destination]:\n",
    "                cms.current *= self.factor\n",
    "            self.ts = ts\n",
    "        return max(\n",
    "            self.Update(src, dst, self.edge),\n",
    "            self.Update(src, 0, self.source),\n",
    "            self.Update(dst, 0, self.destination),)"
   ]
  },
  {
   "cell_type": "code",
   "execution_count": 7,
   "id": "received-recommendation",
   "metadata": {},
   "outputs": [],
   "source": [
    "class CMSGroup:\n",
    "    def __init__(self, length: int):\n",
    "        self.index = np.zeros(length, int)\n",
    "        self.current = np.zeros(length, float)\n",
    "        self.total = np.zeros(length, float)\n",
    "        self.score = np.zeros(length, float)\n",
    "class MidasF:\n",
    "    def __init__(self, row: int, col: int, threshold: float, factor: float = 0.5):\n",
    "        self.nameAlg = 'MIDAS-F'\n",
    "        self.ts = 1\n",
    "        self.row = row\n",
    "        self.col = col\n",
    "        self.threshold = threshold\n",
    "        self.factor = factor\n",
    "        self.param = np.random.randint(1, 1 << 16, 2 * row).astype(int)\n",
    "        self.edge = CMSGroup(row * col)\n",
    "        self.source = CMSGroup(row * col)\n",
    "        self.destination = CMSGroup(row * col)\n",
    "        self.tsReciprocal = 0\n",
    "\n",
    "    @staticmethod\n",
    "    def ChiSquaredTest(a: float, s: float, t: float) -> float:\n",
    "        return 0 if s == 0 else pow(a + s - a * t, 2) / (s * (t - 1))\n",
    "\n",
    "    def Update(self, a: int, b: int, cms: CMSGroup) -> float:\n",
    "        minCurrent = minTotal = np.inf\n",
    "        for i in range(self.row):\n",
    "            cms.index[i] = i * self.col + ((a + 347 * b) * self.param[i] + self.param[i + self.row]) % self.col\n",
    "            i = cms.index[i]\n",
    "            cms.current[i] += 1\n",
    "            minCurrent = min(minCurrent, cms.current[i])\n",
    "            minTotal = min(minTotal, cms.total[i])\n",
    "        score = self.ChiSquaredTest(minCurrent, minTotal, self.ts)\n",
    "        for i in cms.index:\n",
    "            cms.score[i] = score\n",
    "        return score\n",
    "\n",
    "    def Call(self, src: int, dst: int, ts: int) -> float:\n",
    "        if self.ts < ts:\n",
    "            for cms in [self.edge, self.source, self.destination]:\n",
    "                for i in range(self.row * self.col):\n",
    "                    cms.total[i] += cms.current[i] if cms.score[i] < self.threshold else cms.total[i] * self.tsReciprocal\n",
    "                cms.current *= self.factor\n",
    "            self.tsReciprocal = 1 / (ts - 1)\n",
    "            self.ts = ts\n",
    "        return max(\n",
    "            self.Update(src, dst, self.edge),\n",
    "            self.Update(src, 0, self.source),\n",
    "            self.Update(dst, 0, self.destination),)"
   ]
  },
  {
   "cell_type": "code",
   "execution_count": 9,
   "id": "theoretical-poker",
   "metadata": {},
   "outputs": [
    {
     "name": "stderr",
     "output_type": "stream",
     "text": [
      "Load Dataset: 100%|██████████| 1.10M/1.10M [00:03<00:00, 313kit/s] \n",
      "MIDAS: 100%|██████████| 1.10M/1.10M [00:34<00:00, 31.5kit/s]\n"
     ]
    },
    {
     "name": "stdout",
     "output_type": "stream",
     "text": [
      "ROC-AUC = 0.4091\n"
     ]
    }
   ],
   "source": [
    "if __name__ == '__main__':\n",
    "    prefix = here()  # Detect your project root\n",
    "    pathData = prefix / 'ISCX/Data.csv'\n",
    "    pathLabel = prefix / 'ISCX/Label.csv'\n",
    "    pathScore = prefix / 'ISCX/Score.txt'\n",
    "    \n",
    "#     pathData = prefix / 'DARPA/Data.csv'\n",
    "#     pathLabel = prefix / 'DARPA/Label.csv'\n",
    "#     pathScore = prefix / 'DARPA/Score.txt'\n",
    "\n",
    "    data = [[int(item) for item in line.split(b',')] for line in tqdm(pathData.read_bytes().splitlines(), 'Load Dataset', unit_scale=True)]\n",
    "    label = list(map(int, pathLabel.read_bytes().splitlines()))\n",
    "    midas = Midas(2, 1024)\n",
    "#     midas = MidasR(2, 1024)\n",
    "#     midas = MidasF(2, 1024, 1e3)\n",
    "    score = [0.0] * len(label)\n",
    "    for i in trange(len(label), desc=midas.nameAlg, unit_scale=True):\n",
    "        score[i] = midas.Call(*data[i])\n",
    "    print(f\"ROC-AUC = {roc_auc_score(label, score):.4f}\")\n",
    "#     print(f\"# Raw scores will be exported to\")  # Comment this line and below if you don't need to export\n",
    "#     print(f\"# {prefix / 'desktop/AnomalyDetection/Code/Score.txt'}\")\n",
    "#     pathScore.parent.mkdir(exist_ok=True)\n",
    "#     with pathScore.open('w', newline='\\n') as file:\n",
    "#         for line in tqdm(score, 'Export Scores', unit_scale=True):\n",
    "#             file.write(f'{line}\\n')\n",
    "#     pass"
   ]
  },
  {
   "cell_type": "code",
   "execution_count": 10,
   "id": "severe-tiger",
   "metadata": {},
   "outputs": [
    {
     "name": "stderr",
     "output_type": "stream",
     "text": [
      "Load Dataset: 100%|██████████| 4.55M/4.55M [00:14<00:00, 325kit/s] \n",
      "MIDAS: 100%|██████████| 4.55M/4.55M [02:20<00:00, 32.4kit/s]\n"
     ]
    },
    {
     "name": "stdout",
     "output_type": "stream",
     "text": [
      "ROC-AUC = 0.8945\n",
      "# Raw scores will be exported to\n",
      "# /Users/luoyao/Desktop/AnomalyDetection/Code/desktop/AnomalyDetection/Code/Score.txt\n"
     ]
    }
   ],
   "source": [
    "if __name__ == '__main__':\n",
    "    prefix = here()  # Detect your project root\n",
    "#     pathData = prefix / 'ISCX/Data.csv'\n",
    "#     pathLabel = prefix / 'ISCX/Label.csv'\n",
    "#     pathScore = prefix / 'ISCX/Score.txt'\n",
    "    \n",
    "    pathData = prefix / 'DARPA/Data.csv'\n",
    "    pathLabel = prefix / 'DARPA/Label.csv'\n",
    "    pathScore = prefix / 'DARPA/Score.txt'\n",
    "\n",
    "    data = [[int(item) for item in line.split(b',')] for line in tqdm(pathData.read_bytes().splitlines(), 'Load Dataset', unit_scale=True)]\n",
    "    label = list(map(int, pathLabel.read_bytes().splitlines()))\n",
    "    midas = Midas(2, 1024)\n",
    "#     midas = MidasR(2, 1024)\n",
    "#     midas = MidasF(2, 1024, 1e3)\n",
    "    score = [0.0] * len(label)\n",
    "    for i in trange(len(label), desc=midas.nameAlg, unit_scale=True):\n",
    "        score[i] = midas.Call(*data[i])\n",
    "    print(f\"ROC-AUC = {roc_auc_score(label, score):.4f}\")\n",
    "    print(f\"# Raw scores will be exported to\")  # Comment this line and below if you don't need to export\n",
    "    print(f\"# {prefix / 'desktop/AnomalyDetection/Code/Score.txt'}\")\n",
    "#     pathScore.parent.mkdir(exist_ok=True)\n",
    "#     with pathScore.open('w', newline='\\n') as file:\n",
    "#         for line in tqdm(score, 'Export Scores', unit_scale=True):\n",
    "#             file.write(f'{line}\\n')\n",
    "#     pass"
   ]
  },
  {
   "cell_type": "code",
   "execution_count": null,
   "id": "sharing-warner",
   "metadata": {},
   "outputs": [],
   "source": []
  }
 ],
 "metadata": {
  "kernelspec": {
   "display_name": "Python 3",
   "language": "python",
   "name": "python3"
  },
  "language_info": {
   "codemirror_mode": {
    "name": "ipython",
    "version": 3
   },
   "file_extension": ".py",
   "mimetype": "text/x-python",
   "name": "python",
   "nbconvert_exporter": "python",
   "pygments_lexer": "ipython3",
   "version": "3.8.2"
  }
 },
 "nbformat": 4,
 "nbformat_minor": 5
}
