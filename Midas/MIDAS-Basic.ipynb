{
 "cells": [
  {
   "cell_type": "code",
   "execution_count": 1,
   "id": "crude-flashing",
   "metadata": {},
   "outputs": [],
   "source": [
    "import math\n",
    "import numpy as np\n",
    "from pyprojroot import here\n",
    "from sklearn.metrics import roc_auc_score\n",
    "from tqdm import tqdm, trange"
   ]
  },
  {
   "cell_type": "code",
   "execution_count": 2,
   "id": "olive-charity",
   "metadata": {},
   "outputs": [],
   "source": [
    "class Midas:\n",
    "    def __init__(self, row: int, col: int):\n",
    "        self.nameAlg = 'MIDAS'\n",
    "        self.ts: int = 1\n",
    "        self.row = row\n",
    "        self.col = col\n",
    "        self.param = np.random.randint(1, 1 << 16, 2 * row).astype(int) # 2^16\n",
    "        self.current = np.zeros((row,col),int) # store counts\n",
    "        self.total = np.zeros((row,col),int)\n",
    "\n",
    "    @staticmethod # 静态方法无需实例化\n",
    "    def ChiSquaredTest(a: float, s: float, t: float) -> float:\n",
    "        return 0 if s == 0 or t - 1 == 0 else pow((a - s / t) * t, 2) / (s * (t - 1))\n",
    "\n",
    "    def Call(self, src: int, dst: int, ts: int) -> float:\n",
    "        if self.ts < ts:\n",
    "            self.current *= 0\n",
    "            self.ts = ts\n",
    "#         self.current = np.zeros((self.row,self.col),int)\n",
    "        minCurrent = minTotal = np.inf\n",
    "        for i in range(self.row):\n",
    "            n = ((src + 347 * dst) * self.param[i] + self.param[i + self.row]) % self.col\n",
    "            self.current[i][n] += 1\n",
    "            self.total[i][n] += 1\n",
    "            minCurrent = min(minCurrent, self.current[i][n])\n",
    "            minTotal = min(minTotal, self.total[i][n])\n",
    "        return self.ChiSquaredTest(minCurrent, minTotal, ts)"
   ]
  },
  {
   "cell_type": "code",
   "execution_count": 4,
   "id": "cross-worst",
   "metadata": {},
   "outputs": [
    {
     "name": "stderr",
     "output_type": "stream",
     "text": [
      "Load Dataset: 100%|██████████| 4.55M/4.55M [00:09<00:00, 484kit/s]\n"
     ]
    }
   ],
   "source": [
    "if __name__ == '__main__':\n",
    "    prefix = here()  # Detect your project root\n",
    "    pathData = prefix / 'desktop/AnomalyDetection/Code/DARPA/data.csv'\n",
    "    pathLabel = prefix / 'desktop/AnomalyDetection/Code/DARPA/label.csv'\n",
    "    data = [[int(item) for item in line.split(b',')] for line in tqdm(pathData.read_bytes().splitlines(), 'Load Dataset', unit_scale=True)]\n",
    "    label = list(map(int, pathLabel.read_bytes().splitlines()))"
   ]
  },
  {
   "cell_type": "code",
   "execution_count": 5,
   "id": "plastic-profession",
   "metadata": {},
   "outputs": [
    {
     "name": "stderr",
     "output_type": "stream",
     "text": [
      "MIDAS: 100%|██████████| 4.55M/4.55M [01:35<00:00, 47.9kit/s]\n"
     ]
    },
    {
     "name": "stdout",
     "output_type": "stream",
     "text": [
      "ROC-AUC = 0.8945\n"
     ]
    }
   ],
   "source": [
    "    midas = Midas(2, 1024)\n",
    "#     midas = MidasR(2, 1024)\n",
    "#     midas = MidasF(2, 1024, 1e3)\n",
    "    score = [0.0] * len(label)\n",
    "    for i in trange(len(label), desc=midas.nameAlg, unit_scale=True):\n",
    "        score[i] = midas.Call(*data[i])\n",
    "    print(f\"ROC-AUC = {roc_auc_score(label, score):.4f}\")"
   ]
  },
  {
   "cell_type": "code",
   "execution_count": null,
   "id": "comparable-suggestion",
   "metadata": {},
   "outputs": [
    {
     "name": "stderr",
     "output_type": "stream",
     "text": [
      "MIDAS:  52%|█████▏    | 2.38M/4.55M [00:47<00:50, 43.0kit/s]"
     ]
    }
   ],
   "source": [
    "    midas = Midas(2, 1024)\n",
    "#     midas = MidasR(2, 1024)\n",
    "#     midas = MidasF(2, 1024, 1e3)\n",
    "    score = [0.0] * len(label)\n",
    "    for i in trange(len(label), desc=midas.nameAlg, unit_scale=True):\n",
    "        score[i] = midas.Call(*data[i])\n",
    "    print(f\"ROC-AUC = {roc_auc_score(label, score):.4f}\")"
   ]
  },
  {
   "cell_type": "code",
   "execution_count": null,
   "id": "associate-exception",
   "metadata": {},
   "outputs": [],
   "source": []
  }
 ],
 "metadata": {
  "kernelspec": {
   "display_name": "Python 3",
   "language": "python",
   "name": "python3"
  },
  "language_info": {
   "codemirror_mode": {
    "name": "ipython",
    "version": 3
   },
   "file_extension": ".py",
   "mimetype": "text/x-python",
   "name": "python",
   "nbconvert_exporter": "python",
   "pygments_lexer": "ipython3",
   "version": "3.8.2"
  }
 },
 "nbformat": 4,
 "nbformat_minor": 5
}
